{
 "cells": [
  {
   "cell_type": "code",
   "execution_count": 6,
   "id": "2334ce3c",
   "metadata": {},
   "outputs": [
    {
     "name": "stdout",
     "output_type": "stream",
     "text": [
      "Key loaded\n"
     ]
    }
   ],
   "source": [
    "# API movies\n",
    "# themoviedb.org\n",
    "\n",
    "# Create a file: TMDB_API_KEY.txt\n",
    "# in the file write only the KEY\n",
    "\n",
    "f = open(\"TMDB_API_KEY.txt\", \"r\")\n",
    "\n",
    "# print(f.read())\n",
    "\n",
    "TMDB_API_KEY_LOADED = f.read()\n",
    "\n",
    "# print(TMDB_API_KEY_LOADED)\n",
    "\n",
    "if len(TMDB_API_KEY_LOADED)>0:\n",
    "    print('Key loaded')\n",
    "else:\n",
    "    print('Key not loaded')\n",
    "    "
   ]
  },
  {
   "cell_type": "code",
   "execution_count": 13,
   "id": "c976719f",
   "metadata": {},
   "outputs": [
    {
     "name": "stdout",
     "output_type": "stream",
     "text": [
      "{'status': 'success', 'country': 'United States', 'countryCode': 'US', 'region': 'IL', 'regionName': 'Illinois', 'city': 'Chicago', 'zip': '60666', 'lat': 41.8781, 'lon': -87.6298, 'timezone': 'America/Chicago', 'isp': 'Wikimedia Foundation Inc.', 'org': 'Wikimedia Foundation Inc', 'as': 'AS14907 Wikimedia Foundation Inc.', 'query': '208.80.152.201'}\n",
      "*\n",
      "success\n",
      "United States\n",
      "US\n",
      "208.80.152.201\n"
     ]
    }
   ],
   "source": [
    "# example with an API\n",
    "# http://ip-api.com/json/208.80.152.201\n",
    "\n",
    "import requests\n",
    "import json\n",
    "resp = requests.get('http://ip-api.com/json/208.80.152.201')\n",
    "j = json.loads(resp.content)\n",
    "print(j)\n",
    "\n",
    "# {\"status\":\"success\",\"country\":\"United States\",\"countryCode\":\"US\",\"region\":\"IL\",\"regionName\":\"Illinois\",\"city\":\"Chicago\",\"zip\":\"60666\",\"lat\":41.8781,\"lon\":-87.6298,\"timezone\":\"America/Chicago\",\"isp\":\"Wikimedia Foundation Inc.\",\"org\":\"Wikimedia Foundation Inc\",\"as\":\"AS14907 Wikimedia Foundation Inc.\",\"query\":\"208.80.152.201\"}\n",
    "\n",
    "print(\"*\")\n",
    "print(j['status'])\n",
    "print(j['country'])\n",
    "print(j['countryCode'])\n",
    "\n",
    "print(j['query'])"
   ]
  },
  {
   "cell_type": "code",
   "execution_count": 26,
   "id": "962e1c51",
   "metadata": {},
   "outputs": [
    {
     "name": "stdout",
     "output_type": "stream",
     "text": [
      "dicc\n",
      "{'adult': False, 'backdrop_path': '/zoVeIgKzGJzpdG6Gwnr7iOYfIMU.jpg', 'belongs_to_collection': None, 'budget': 5000000, 'genres': [{'id': 18, 'name': 'Drama'}, {'id': 10749, 'name': 'Romance'}], 'homepage': '', 'id': 11216, 'imdb_id': 'tt0095765', 'original_language': 'it', 'original_title': 'Nuovo Cinema Paradiso', 'overview': \"A filmmaker recalls his childhood, when he fell in love with the movies at his village's theater and formed a deep friendship with the theater's projectionist.\", 'popularity': 20.4, 'poster_path': '/8SRUfRUi6x4O68n0VCbDNRa6iGL.jpg', 'production_companies': [{'id': 7110, 'logo_path': None, 'name': 'Les Films Ariane', 'origin_country': 'FR'}, {'id': 119518, 'logo_path': None, 'name': 'Cristaldifilm', 'origin_country': ''}, {'id': 1583, 'logo_path': '/gKP4egMJOi5rksdnplfPV1wa0sd.png', 'name': 'RAI', 'origin_country': 'IT'}], 'production_countries': [{'iso_3166_1': 'FR', 'name': 'France'}, {'iso_3166_1': 'IT', 'name': 'Italy'}], 'release_date': '1988-11-17', 'revenue': 11990401, 'runtime': 124, 'spoken_languages': [{'english_name': 'Italian', 'iso_639_1': 'it', 'name': 'Italiano'}], 'status': 'Released', 'tagline': 'A celebration of youth, friendship, and the everlasting magic of the movies.', 'title': 'Cinema Paradiso', 'video': False, 'vote_average': 8.5, 'vote_count': 3366}\n",
      "Nuovo Cinema Paradiso\n"
     ]
    }
   ],
   "source": [
    "# API movies\n",
    "\n",
    "import ssl\n",
    "import urllib.request\n",
    "import json\n",
    "import codecs\n",
    "import csv\n",
    "\n",
    "# Put your TMDB API key as text string here\n",
    "#TMDB_API_KEY = \"\"\n",
    "#TMDB_API_KEY = \"4..X...Y..x..!5.....g6...78\"\n",
    "TMDB_API_KEY = TMDB_API_KEY_LOADED\n",
    "\n",
    "# Movies API\n",
    "# https://api.themoviedb.org/\n",
    "# Movies API DEV\n",
    "# https://developers.themoviedb.org/3/movies/get-movie-details\n",
    "\n",
    "# Chariots of Fire # https://www.themoviedb.org/movie/9443-chariots-of-fire\n",
    "#TMDB_MOVIE_ID = 9443\n",
    "\n",
    "# https://www.themoviedb.org/movie/11-star-wars\n",
    "#TMDB_MOVIE_ID = 11\n",
    "\n",
    "# https://www.themoviedb.org/movie/11216-nuovo-cinema-paradiso\n",
    "TMDB_MOVIE_ID = 11216\n",
    "\n",
    "# The Avengers: Endgame movie\n",
    "# TMDB_MOVIE_ID = 299534\n",
    "\n",
    "# Create context for HTTPS connection\n",
    "context = ssl._create_unverified_context()\n",
    "\n",
    "\n",
    "# by ID\n",
    "# https://api.themoviedb.org/3/movie/550?api_key=4........\n",
    "# https://api.themoviedb.org/3/movie/%\n",
    "\n",
    "# discover\n",
    "#What is are the best movies from 2010?\n",
    "#URL: /discover/movie?primary_release_year=2010&sort_by=vote_average.desc\n",
    "\n",
    "\n",
    "# Open URL request for downloading 1st page of reviews (first 20 reviews afaik)\n",
    "#u = urllib.request.urlopen(\"https://api.themoviedb.org/3/movie/%i/reviews?api_key=%s&language=en-US&page=1\" % (TMDB_MOVIE_ID, TMDB_API_KEY), context=context)\n",
    "# (TMDB_MOVIE_ID, TMDB_API_KEY), context=context)\n",
    "\n",
    "# out: /reviews\n",
    "url = \"https://api.themoviedb.org/3/movie/%i?api_key=%s&language=en-US&page=1\" % (TMDB_MOVIE_ID, TMDB_API_KEY)\n",
    "u = urllib.request.urlopen(url, context=context)\n",
    "\n",
    "# https://api.themoviedb.org/3/movie/299534/reviews?api_key=4.........0&language=en-US&page=1\n",
    "# print(url)\n",
    "\n",
    "# Read JSON file with results from TMDB\n",
    "raw_data = u.read()\n",
    "\n",
    "# Convert JSON file to python dict\n",
    "data = json.loads(raw_data)\n",
    "\n",
    "# print('json')\n",
    "# print(raw_data)\n",
    "\n",
    "print('dicc')\n",
    "print(data)\n",
    "\n",
    "#print(data['belongs_to_collection']['name'])\n",
    "print(data['original_title'])"
   ]
  },
  {
   "cell_type": "code",
   "execution_count": 28,
   "id": "e674c794",
   "metadata": {},
   "outputs": [
    {
     "name": "stdout",
     "output_type": "stream",
     "text": [
      "Nuovo Cinema Paradiso\n",
      "it\n",
      "\n",
      "A filmmaker recalls his childhood, when he fell in love with the movies at his village's theater and formed a deep friendship with the theater's projectionist.\n"
     ]
    }
   ],
   "source": [
    "#print(data['belongs_to_collection']['name'])\n",
    "print(data['original_title'])\n",
    "print(data['original_language'])\n",
    "print(data['homepage'])\n",
    "print(data['overview'])"
   ]
  },
  {
   "cell_type": "code",
   "execution_count": null,
   "id": "15162b25",
   "metadata": {},
   "outputs": [],
   "source": [
    "# other sites:\n",
    "\n",
    "# https://www.imdb.com"
   ]
  }
 ],
 "metadata": {
  "kernelspec": {
   "display_name": "Python 3 (ipykernel)",
   "language": "python",
   "name": "python3"
  },
  "language_info": {
   "codemirror_mode": {
    "name": "ipython",
    "version": 3
   },
   "file_extension": ".py",
   "mimetype": "text/x-python",
   "name": "python",
   "nbconvert_exporter": "python",
   "pygments_lexer": "ipython3",
   "version": "3.9.12"
  }
 },
 "nbformat": 4,
 "nbformat_minor": 5
}
